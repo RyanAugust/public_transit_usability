{
 "cells": [
  {
   "cell_type": "code",
   "execution_count": null,
   "metadata": {},
   "outputs": [],
   "source": [
    "import pandas as pd\n",
    "import requests, zipfile, StringIO\n",
    "pd.set_option('display.max_columns',200)\n",
    "import numpy as np\n",
    "import grequests\n",
    "from lxml import html\n",
    "import matplotlib.pyplot as plt\n",
    "%matplotlib inline"
   ]
  },
  {
   "cell_type": "markdown",
   "metadata": {},
   "source": [
    "# ACS Population Data"
   ]
  },
  {
   "cell_type": "code",
   "execution_count": null,
   "metadata": {},
   "outputs": [],
   "source": [
    "acs5yr_base = 'https://www2.census.gov/programs-surveys/acs/data/pums/2016/5-Year/'"
   ]
  },
  {
   "cell_type": "code",
   "execution_count": null,
   "metadata": {},
   "outputs": [],
   "source": [
    "def pull_acsfile(state, filetype='csv', ph='p'):\n",
    "    r = requests.get(\n",
    "        acs5yr_base + '{filetype}_{ph}{state}.zip'.format(filetype=filetype,\n",
    "                                                          ph=ph,\n",
    "                                                          state=state),\n",
    "            stream=True)\n",
    "    z = zipfile.ZipFile(StringIO.StringIO(r.content))\n",
    "    z.extractall()"
   ]
  },
  {
   "cell_type": "code",
   "execution_count": null,
   "metadata": {},
   "outputs": [],
   "source": [
    "statelist = ['il','ca','ny']"
   ]
  },
  {
   "cell_type": "code",
   "execution_count": null,
   "metadata": {},
   "outputs": [],
   "source": [
    "for state in statelist:\n",
    "    print('{} Started'.format(state))\n",
    "    pull_acsfile(state)\n",
    "    print('{} Complete'.format(state))"
   ]
  },
  {
   "cell_type": "markdown",
   "metadata": {},
   "source": [
    "# Zip Code Population Data (Incremental pop data)"
   ]
  },
  {
   "cell_type": "code",
   "execution_count": null,
   "metadata": {},
   "outputs": [],
   "source": [
    "# r = requests.get('https://www.kaggle.com/census/us-population-by-zip-code/downloads/us-population-by-zip-code.zip', stream=True)\n",
    "# z = zipfile.ZipFile(StringIO.StringIO(r.content))\n",
    "# z.extractall()"
   ]
  },
  {
   "cell_type": "markdown",
   "metadata": {},
   "source": [
    "pop location\n",
    "https://www.kaggle.com/census/us-population-by-zip-code/downloads/us-population-by-zip-code.zip"
   ]
  },
  {
   "cell_type": "code",
   "execution_count": null,
   "metadata": {},
   "outputs": [],
   "source": [
    "df = pd.read_csv('ss16pca.csv')\n",
    "fig, ax = plt.subplots(figsize=(20,5), dpi=200)\n",
    "ax.hist(df['AGEP'],bins=94)"
   ]
  },
  {
   "cell_type": "code",
   "execution_count": null,
   "metadata": {},
   "outputs": [],
   "source": [
    "age_wage = df.dropna(subset=['AGEP','WAGP']).groupby('AGEP').agg({'WAGP':'mean'})\n",
    "\n",
    "age_wage.plot(kind='bar',figsize=(20,5))"
   ]
  },
  {
   "cell_type": "markdown",
   "metadata": {},
   "source": [
    "# BART Locations"
   ]
  },
  {
   "cell_type": "code",
   "execution_count": null,
   "metadata": {},
   "outputs": [],
   "source": [
    "r = requests.get('https://www.bart.gov/stations')\n",
    "tree = htmltree = html.fromstring(r.content)\n",
    "t = tree.xpath('//*[@id=\"station-lists\"]/ul/li/a')"
   ]
  },
  {
   "cell_type": "code",
   "execution_count": null,
   "metadata": {},
   "outputs": [],
   "source": [
    "stations = []\n",
    "for list_obj in t:\n",
    "#     try:\n",
    "    station_url = list_obj.items()[0][1]\n",
    "    stations.append(station_url)\n",
    "#     except:\n",
    "#         pass"
   ]
  },
  {
   "cell_type": "code",
   "execution_count": null,
   "metadata": {},
   "outputs": [],
   "source": [
    "zipcodes = []\n",
    "station_addrs = []\n",
    "for sta_url in stations:\n",
    "    full_url = 'https://www.bart.gov' + sta_url\n",
    "    sta_r = requests.get(full_url)\n",
    "    tree = htmltree = html.fromstring(sta_r.content)\n",
    "    address = tree.xpath('//*[@id=\"main-content\"]/div[1]/div/span[1]/text()')[0]\n",
    "    city = tree.xpath('//*[@id=\"main-content\"]/div[1]/div/span[2]/text()')[0]\n",
    "    zipcode = tree.xpath('//*[@id=\"main-content\"]/div[1]/div/span[4]/text()')[0]\n",
    "    zipcodes.append(zipcode)\n",
    "    station_addrs.append('{}, {}, CA, {}'.format(address,city,zipcode))"
   ]
  },
  {
   "cell_type": "code",
   "execution_count": null,
   "metadata": {},
   "outputs": [],
   "source": [
    "def get_latlon(address):\n",
    "    address = address.replace(' ','+').strip(\"'\")\n",
    "    response = requests.get('https://maps.googleapis.com/maps/api/geocode/json?address={}, CA'.format(address))\n",
    "    resp_json_payload = response.json()\n",
    "    try:\n",
    "        return resp_json_payload['results'][0]['geometry']['location']\n",
    "    except:\n",
    "        try:\n",
    "            response = requests.get('https://maps.googleapis.com/maps/api/geocode/json?address={}, CA'.format(address))\n",
    "            resp_json_payload = response.json()\n",
    "            return resp_json_payload['results'][0]['geometry']['location']\n",
    "        except:\n",
    "            return address #resp_json_payload['results']"
   ]
  },
  {
   "cell_type": "code",
   "execution_count": null,
   "metadata": {},
   "outputs": [],
   "source": [
    "stations_ = {}\n",
    "for add_ in station_addrs:\n",
    "    payload = get_latlon(add_)\n",
    "    stations_.update({add_:payload})\n",
    "\n",
    "stations_2=[]\n",
    "for stat, loc_ in stations_.items():\n",
    "    try:\n",
    "        lat, lng = loc_['lat'], loc_['lng']\n",
    "    except:\n",
    "        lat, lng = np.nan, np.nan\n",
    "    stations_2.append({'station':stat,\n",
    "                       'latatude':lat,\n",
    "                       'longitude':lng,\n",
    "                       'raw':loc_})\n",
    "\n",
    "sta_loc_df = pd.from_dict(stations_2)\n",
    "sta_loc_df.to_csv('station_locations.csv', index=False)"
   ]
  },
  {
   "cell_type": "code",
   "execution_count": null,
   "metadata": {},
   "outputs": [],
   "source": [
    "df = pd.read_csv('station_locations.csv')\n",
    "del df['Unnamed: 0']"
   ]
  },
  {
   "cell_type": "code",
   "execution_count": null,
   "metadata": {},
   "outputs": [],
   "source": [
    "df"
   ]
  },
  {
   "cell_type": "markdown",
   "metadata": {},
   "source": [
    "## GEODATABSE Integration\n",
    "Link: https://www.census.gov/geo/maps-data/data/tiger-data.html (Download Block Group level for a given state)\n",
    "\n",
    "Documentation: https://www2.census.gov/geo/tiger/TIGER_DP/2016ACS/Metadata/BG_METADATA_2016.txt"
   ]
  },
  {
   "cell_type": "code",
   "execution_count": null,
   "metadata": {},
   "outputs": [],
   "source": []
  }
 ],
 "metadata": {
  "kernelspec": {
   "display_name": "py364",
   "language": "python",
   "name": "py364"
  },
  "language_info": {
   "codemirror_mode": {
    "name": "ipython",
    "version": 2
   },
   "file_extension": ".py",
   "mimetype": "text/x-python",
   "name": "python",
   "nbconvert_exporter": "python",
   "pygments_lexer": "ipython2",
   "version": "2.7.14"
  }
 },
 "nbformat": 4,
 "nbformat_minor": 2
}
