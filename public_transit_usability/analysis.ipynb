{
 "cells": [
  {
   "cell_type": "code",
   "execution_count": null,
   "metadata": {},
   "outputs": [],
   "source": [
    "import pandas as pd\n",
    "import matplotlib.pyplot as plt\n",
    "%matplotlib inline\n",
    "import os\n",
    "data_dir = '/'.join(os.getcwd().split('/')[:-1]) + '/data/'\n",
    "\n",
    "from mpl_toolkits.basemap import Basemap\n",
    "import numpy as np\n",
    "import matplotlib.pyplot as plt\n",
    "\n",
    "from state_lookup import state_lookup\n",
    "\n",
    "%load_ext autoreload\n",
    "%autoreload 2"
   ]
  },
  {
   "cell_type": "code",
   "execution_count": null,
   "metadata": {},
   "outputs": [],
   "source": [
    "##### USA #### llcrnrlat=20.,llcrnrlon=-135.,urcrnrlat=56.,urcrnrlon=-55.,lat_0=39.5, lon_0=-80,\n",
    "## Bay Area ##"
   ]
  },
  {
   "cell_type": "code",
   "execution_count": null,
   "metadata": {},
   "outputs": [],
   "source": [
    "state_lookup.get_state_num('California')"
   ]
  },
  {
   "cell_type": "code",
   "execution_count": null,
   "metadata": {},
   "outputs": [],
   "source": [
    "stations = pd.read_csv('station_locations.csv')"
   ]
  },
  {
   "cell_type": "code",
   "execution_count": null,
   "metadata": {},
   "outputs": [],
   "source": [
    "fig = plt.figure(figsize=(10,20),dpi=200)\n",
    "map = Basemap(llcrnrlat=37.,llcrnrlon=-123.,urcrnrlat=38.5,urcrnrlon=-121.5,lat_0=37.75, lon_0=-122.5,\n",
    "             resolution='i', \n",
    "    projection='cyl')\n",
    "\n",
    "map.drawmapboundary(fill_color='aqua')\n",
    "map.fillcontinents(color='#ddaa66',lake_color='aqua',zorder=1)\n",
    "map.drawcoastlines()\n",
    "\n",
    "map.readshapefile(data_dir + 'tl_2016_06_bg/tl_2016_06_bg', '06_bg')\n",
    "map.scatter(stations['longitude'],stations['latatude'],s=10, color='white',marker='o',zorder=9)\n",
    "plt.show()"
   ]
  },
  {
   "cell_type": "code",
   "execution_count": null,
   "metadata": {},
   "outputs": [],
   "source": [
    "import os\n",
    "\n",
    "blockpop_filelist = []\n",
    "blockhome_filelist = []\n",
    "for a,b,c in os.walk('/Users/ryanduecker/git/public_transit_usability/public_transit_usability/data/tab4/sumfile/prod/2012thru2016/group2'):\n",
    "    for file in c:\n",
    "        if file[0] == 'e':\n",
    "            if file[8:12]=='0001':\n",
    "                blockpop_filelist.append(file)\n",
    "            elif file[8:12]=='0002':\n",
    "                blockhome_filelist.append(file)\n",
    "\n",
    "\n",
    "df_pop = pd.DataFrame()\n",
    "for file in blockpop_filelist:\n",
    "    try:\n",
    "        df = pd.read_csv('/Users/ryanduecker/git/public_transit_usability/public_transit_usability/data/tab4/sumfile/prod/2012thru2016/group2/' + file)\n",
    "        df_pop = df_pop.append(df)\n",
    "    except:\n",
    "        print(file)"
   ]
  },
  {
   "cell_type": "code",
   "execution_count": null,
   "metadata": {},
   "outputs": [],
   "source": [
    "pd.read_csv('/Users/ryanduecker/git/public_transit_usability/public_transit_usability/data/tab4/sumfile/prod/2012thru2016/group2/e20165ca0001000.txt')"
   ]
  },
  {
   "cell_type": "code",
   "execution_count": null,
   "metadata": {},
   "outputs": [],
   "source": []
  },
  {
   "cell_type": "code",
   "execution_count": null,
   "metadata": {},
   "outputs": [],
   "source": []
  },
  {
   "cell_type": "code",
   "execution_count": null,
   "metadata": {},
   "outputs": [],
   "source": []
  },
  {
   "cell_type": "code",
   "execution_count": null,
   "metadata": {},
   "outputs": [],
   "source": []
  },
  {
   "cell_type": "code",
   "execution_count": null,
   "metadata": {},
   "outputs": [],
   "source": [
    "df = pd.read_csv('population_by_zip_2010.csv')"
   ]
  },
  {
   "cell_type": "code",
   "execution_count": null,
   "metadata": {},
   "outputs": [],
   "source": [
    "zip_pop = df.groupby('zipcode').sum()[['population']]"
   ]
  },
  {
   "cell_type": "code",
   "execution_count": null,
   "metadata": {},
   "outputs": [],
   "source": [
    "zip_pop = zip_pop.reset_index()"
   ]
  },
  {
   "cell_type": "code",
   "execution_count": null,
   "metadata": {},
   "outputs": [],
   "source": [
    "sta = pd.read_csv('station_locations.csv')"
   ]
  },
  {
   "cell_type": "code",
   "execution_count": null,
   "metadata": {},
   "outputs": [],
   "source": [
    "sta['zipcode'] = sta['station'].apply(lambda x: int(x.split(', ')[-1]))"
   ]
  },
  {
   "cell_type": "code",
   "execution_count": null,
   "metadata": {},
   "outputs": [],
   "source": [
    "sta.merge(zip_pop, on='zipcode')"
   ]
  },
  {
   "cell_type": "code",
   "execution_count": null,
   "metadata": {},
   "outputs": [],
   "source": [
    "blocks = pd.read_csv('/Users/ryand/Downloads/All_Geographies/e20171ma0117000.txt')"
   ]
  },
  {
   "cell_type": "code",
   "execution_count": null,
   "metadata": {},
   "outputs": [],
   "source": [
    "import os\n",
    "\n",
    "blockpop_filelist = []\n",
    "blockhome_filelist = []\n",
    "for a,b,c in os.walk('/Users/ryand/Downloads/data/tab4/sumfile/prod/2012thru2016/group2'):\n",
    "    for file in c:\n",
    "        if file[0] == 'e':\n",
    "            if file[8:12]=='0001':\n",
    "                blockpop_filelist.append(file)\n",
    "            elif file[8:12]=='0002':\n",
    "                blockhome_filelist.append(file)\n",
    "\n",
    "\n",
    "df_pop = pd.DataFrame()\n",
    "for file in blockpop_filelist:\n",
    "    try:\n",
    "        df = pd.read_csv('/Users/ryand/Downloads/data/tab4/sumfile/prod/2012thru2016/group2/' + file)\n",
    "        df_pop = df_pop.append(df)\n",
    "    except:\n",
    "        print(file)"
   ]
  },
  {
   "cell_type": "code",
   "execution_count": null,
   "metadata": {},
   "outputs": [],
   "source": [
    "df_pop"
   ]
  },
  {
   "cell_type": "code",
   "execution_count": null,
   "metadata": {},
   "outputs": [],
   "source": []
  }
 ],
 "metadata": {
  "kernelspec": {
   "display_name": "py364",
   "language": "python",
   "name": "py364"
  },
  "language_info": {
   "codemirror_mode": {
    "name": "ipython",
    "version": 2
   },
   "file_extension": ".py",
   "mimetype": "text/x-python",
   "name": "python",
   "nbconvert_exporter": "python",
   "pygments_lexer": "ipython2",
   "version": "2.7.14"
  }
 },
 "nbformat": 4,
 "nbformat_minor": 2
}
