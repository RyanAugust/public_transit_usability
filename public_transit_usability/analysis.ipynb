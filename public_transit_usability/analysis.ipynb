{
 "cells": [
  {
   "cell_type": "code",
   "execution_count": null,
   "metadata": {},
   "outputs": [],
   "source": [
    "import pandas as pd\n",
    "import matplotlib.pyplot as plt\n",
    "%matplotlib inline\n",
    "import os\n",
    "data_dir = '/'.join(os.getcwd().split('/')[:-1]) + '/data/'\n",
    "pop_dir = '/Volumes/mini/data/bg_population_data/'\n",
    "\n",
    "from mpl_toolkits.basemap import Basemap\n",
    "import numpy as np\n",
    "import matplotlib.pyplot as plt\n",
    "import geopandas as gpd\n",
    "\n",
    "from state_lookup import state_lookup\n",
    "\n",
    "%load_ext autoreload\n",
    "%autoreload 2\n",
    "\n",
    "##### USA #### llcrnrlat=20.,llcrnrlon=-135.,urcrnrlat=56.,urcrnrlon=-55.,lat_0=39.5, lon_0=-80,\n",
    "## Bay Area ##\n",
    "# state_lookup.get_state_num('California')"
   ]
  },
  {
   "cell_type": "code",
   "execution_count": null,
   "metadata": {},
   "outputs": [],
   "source": [
    "## Sourced from data_retrieval\n",
    "stations = pd.read_csv(data_dir + 'station_locations.csv')\n",
    "stations_ = stations.dropna(subset=['latatude'])\n",
    "stn_zip = zip(stations_['latatude'], stations_['longitude'])"
   ]
  },
  {
   "cell_type": "code",
   "execution_count": null,
   "metadata": {},
   "outputs": [],
   "source": [
    "fig = plt.figure(figsize=(10,20),dpi=200)\n",
    "map = Basemap(llcrnrlat=37.,llcrnrlon=-123.,urcrnrlat=38.5,urcrnrlon=-121.5,lat_0=37.75, lon_0=-122.5,\n",
    "             resolution='i', \n",
    "    projection='cyl')\n",
    "\n",
    "map.drawmapboundary(fill_color='aqua')\n",
    "map.fillcontinents(color='#ddaa66',lake_color='aqua',zorder=1)\n",
    "map.drawcoastlines()\n",
    "\n",
    "map.readshapefile(data_dir + 'tl_2016_06_bg/tl_2016_06_bg', '06_bg')\n",
    "map.scatter(stations['longitude'],stations['latatude'],s=10, color='white',marker='o',zorder=9)\n",
    "plt.show()"
   ]
  },
  {
   "cell_type": "markdown",
   "metadata": {},
   "source": [
    "## GEODATABSE Integration\n",
    "Link: https://www.census.gov/geo/maps-data/data/tiger-data.html (Download Block Group level for a given state)\n",
    "\n",
    "Documentation: https://www2.census.gov/geo/tiger/TIGER_DP/2016ACS/Metadata/BG_METADATA_2016.txt"
   ]
  },
  {
   "cell_type": "code",
   "execution_count": null,
   "metadata": {},
   "outputs": [],
   "source": [
    "gdf = gpd.read_file(data_dir + 'tl_2016_06_bg/tl_2016_06_bg.shp')\n",
    "gdf['GEOID'] = gdf['GEOID'].apply(lambda x: '15000US' + x)\n",
    "gdb_file = gpd.read_file('/Users/ryand/Downloads/ACS_2016_5YR_BG_06_CALIFORNIA.gdb')\n",
    "del gdb_file['geometry']\n",
    "geo_db = gdf.merge(gdb_file, on='GEOID')\n",
    "\n",
    "geo_db['INTPTLON'] = geo_db['INTPTLON'].astype(float)\n",
    "geo_db['INTPTLAT'] = geo_db['INTPTLAT'].astype(float)"
   ]
  },
  {
   "cell_type": "code",
   "execution_count": null,
   "metadata": {},
   "outputs": [],
   "source": [
    "wking = geo_db[(geo_db['AWATER'] < geo_db['ALAND']) & (geo_db['INTPTLAT'] > 37.25) & (geo_db['INTPTLAT'] < 38.5)\n",
    "                                            & (geo_db['INTPTLON'] > -123) & (geo_db['INTPTLON'] < -121.5)]"
   ]
  },
  {
   "cell_type": "code",
   "execution_count": null,
   "metadata": {},
   "outputs": [],
   "source": [
    "# B00001e1 == POPULATION\n",
    "# B00002e1 == HOUSING"
   ]
  },
  {
   "cell_type": "code",
   "execution_count": null,
   "metadata": {},
   "outputs": [],
   "source": [
    "wking['pop_sqm'] = wking['B00002e1']/wking['ALAND']\n",
    "wking['pop_sqm'] = wking['pop_sqm'].replace(np.inf, 0)"
   ]
  },
  {
   "cell_type": "code",
   "execution_count": null,
   "metadata": {},
   "outputs": [],
   "source": [
    "wking.plot(column='B00001e1',cmap='OrRd',figsize=(20,20))"
   ]
  },
  {
   "cell_type": "code",
   "execution_count": null,
   "metadata": {},
   "outputs": [],
   "source": [
    "def dist(p1, p2):\n",
    "    return np.sqrt((p1[0] - p2[0])**2 + (p1[1] - p2[1])**2)\n",
    "\n",
    "def find_closest_station((lat, lon)):\n",
    "    distance_cache = {}\n",
    "    for stn in stn_zip:\n",
    "        distance_cache.update({dist((lat,lon),stn):stn}) \n",
    "    min_dist = min(distance_cache.keys())\n",
    "    return distance_cache[min_dist], min_dist\n",
    "\n",
    "bg_centers = zip(wking['INTPTLAT'],wking['INTPTLON'])"
   ]
  },
  {
   "cell_type": "code",
   "execution_count": null,
   "metadata": {},
   "outputs": [],
   "source": [
    "wking['closest_stn'], wking['dist'] = zip(*wking[['INTPTLAT','INTPTLON']].apply(find_closest_station, axis=1))"
   ]
  },
  {
   "cell_type": "code",
   "execution_count": null,
   "metadata": {},
   "outputs": [],
   "source": [
    "####### Station Grouping with total population and household\n",
    "\n",
    "wking[wking['dist'] <= .25].groupby('closest_stn')[['B00001e1','B00002e1']].sum()"
   ]
  },
  {
   "cell_type": "code",
   "execution_count": null,
   "metadata": {},
   "outputs": [],
   "source": []
  },
  {
   "cell_type": "code",
   "execution_count": null,
   "metadata": {},
   "outputs": [],
   "source": []
  },
  {
   "cell_type": "code",
   "execution_count": null,
   "metadata": {},
   "outputs": [],
   "source": [
    "import os\n",
    "\n",
    "blockpop_filelist = []\n",
    "blockhome_filelist = []\n",
    "for a,b,c in os.walk('/Users/ryanduecker/git/public_transit_usability/public_transit_usability/data/tab4/sumfile/prod/2012thru2016/group2'):\n",
    "    for file in c:\n",
    "        if file[0] == 'e':\n",
    "            if file[8:12]=='0001':\n",
    "                blockpop_filelist.append(file)\n",
    "            elif file[8:12]=='0002':\n",
    "                blockhome_filelist.append(file)\n",
    "\n",
    "\n",
    "df_pop = pd.DataFrame()\n",
    "for file in blockpop_filelist:\n",
    "    try:\n",
    "        df = pd.read_csv('/Users/ryanduecker/git/public_transit_usability/public_transit_usability/data/tab4/sumfile/prod/2012thru2016/group2/' + file)\n",
    "        df_pop = df_pop.append(df)\n",
    "    except:\n",
    "        print(file)"
   ]
  },
  {
   "cell_type": "code",
   "execution_count": null,
   "metadata": {},
   "outputs": [],
   "source": []
  },
  {
   "cell_type": "code",
   "execution_count": null,
   "metadata": {},
   "outputs": [],
   "source": []
  },
  {
   "cell_type": "code",
   "execution_count": null,
   "metadata": {},
   "outputs": [],
   "source": []
  },
  {
   "cell_type": "code",
   "execution_count": null,
   "metadata": {},
   "outputs": [],
   "source": []
  },
  {
   "cell_type": "code",
   "execution_count": null,
   "metadata": {},
   "outputs": [],
   "source": [
    "df = pd.read_csv('population_by_zip_2010.csv')"
   ]
  },
  {
   "cell_type": "code",
   "execution_count": null,
   "metadata": {},
   "outputs": [],
   "source": [
    "zip_pop = df.groupby('zipcode').sum()[['population']]"
   ]
  },
  {
   "cell_type": "code",
   "execution_count": null,
   "metadata": {},
   "outputs": [],
   "source": [
    "zip_pop = zip_pop.reset_index()"
   ]
  },
  {
   "cell_type": "code",
   "execution_count": null,
   "metadata": {},
   "outputs": [],
   "source": [
    "sta = pd.read_csv('station_locations.csv')"
   ]
  },
  {
   "cell_type": "code",
   "execution_count": null,
   "metadata": {},
   "outputs": [],
   "source": [
    "sta['zipcode'] = sta['station'].apply(lambda x: int(x.split(', ')[-1]))"
   ]
  },
  {
   "cell_type": "code",
   "execution_count": null,
   "metadata": {},
   "outputs": [],
   "source": [
    "sta.merge(zip_pop, on='zipcode')"
   ]
  },
  {
   "cell_type": "code",
   "execution_count": null,
   "metadata": {},
   "outputs": [],
   "source": [
    "blocks = pd.read_csv('/Users/ryand/Downloads/All_Geographies/e20171ma0117000.txt')"
   ]
  },
  {
   "cell_type": "code",
   "execution_count": null,
   "metadata": {},
   "outputs": [],
   "source": [
    "import os\n",
    "\n",
    "blockpop_filelist = []\n",
    "blockhome_filelist = []\n",
    "for a,b,c in os.walk('/Users/ryand/Downloads/data/tab4/sumfile/prod/2012thru2016/group2'):\n",
    "    for file in c:\n",
    "        if file[0] == 'e':\n",
    "            if file[8:12]=='0001':\n",
    "                blockpop_filelist.append(file)\n",
    "            elif file[8:12]=='0002':\n",
    "                blockhome_filelist.append(file)\n",
    "\n",
    "\n",
    "df_pop = pd.DataFrame()\n",
    "for file in blockpop_filelist:\n",
    "    try:\n",
    "        df = pd.read_csv('/Users/ryand/Downloads/data/tab4/sumfile/prod/2012thru2016/group2/' + file)\n",
    "        df_pop = df_pop.append(df)\n",
    "    except:\n",
    "        print(file)"
   ]
  },
  {
   "cell_type": "code",
   "execution_count": null,
   "metadata": {},
   "outputs": [],
   "source": [
    "df_pop"
   ]
  },
  {
   "cell_type": "code",
   "execution_count": null,
   "metadata": {},
   "outputs": [],
   "source": []
  }
 ],
 "metadata": {
  "kernelspec": {
   "display_name": "py364",
   "language": "python",
   "name": "py364"
  },
  "language_info": {
   "codemirror_mode": {
    "name": "ipython",
    "version": 2
   },
   "file_extension": ".py",
   "mimetype": "text/x-python",
   "name": "python",
   "nbconvert_exporter": "python",
   "pygments_lexer": "ipython2",
   "version": "2.7.14"
  }
 },
 "nbformat": 4,
 "nbformat_minor": 2
}
